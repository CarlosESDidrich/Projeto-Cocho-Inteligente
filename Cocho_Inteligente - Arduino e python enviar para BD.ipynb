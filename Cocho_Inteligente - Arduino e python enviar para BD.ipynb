{
 "cells": [
  {
   "cell_type": "code",
   "execution_count": null,
   "id": "f42392f3",
   "metadata": {},
   "outputs": [
    {
     "name": "stdout",
     "output_type": "stream",
     "text": [
      "Arduino conectado\n",
      "Conectado ao Banco\n",
      "Atualizado com sucesso\n",
      "Conectado ao Banco\n",
      "Atualizado com sucesso\n"
     ]
    }
   ],
   "source": [
    "#Arduino e python enviando dados para Banco de dados\n",
    "import serial #Importa a biblioteca\n",
    "import pymysql\n",
    "\n",
    "while True: #Loop para a conexão com o Arduino\n",
    "    try:  #Tenta se conectar, se conseguir, o loop se encerra\n",
    "        arduino = serial.Serial('COM4', 9600)\n",
    "        print('Arduino conectado')\n",
    "        break\n",
    "        \n",
    "    except:\n",
    "        pass\n",
    "    \n",
    "while True: #Loop principal\n",
    "        dist = str(arduino.readline()) #Lê os dados em formato de string\n",
    "        dist = dist[2:-5] #Fatia a string\n",
    "        \n",
    "        conexao = pymysql.connect(host=\"db4free.net\", #Conecta ao banco de dados\n",
    "                          port=3306,\n",
    "                          database=\"cochoint\",\n",
    "                          user=\"cochoint\",\n",
    "                          password=\"#cocho_inteligente\",\n",
    "                          autocommit=True)\n",
    "        print(\"Conectado ao Banco\")\n",
    "\n",
    "        cursor = conexao.cursor()\n",
    "        cursor.execute(\"UPDATE `cocho_inteligente` SET `dist_cocho`='\"+dist+\"' WHERE 1;\" )#Altera informação do cocho que foi cadastrado\n",
    "        print(\"Atualizado com sucesso\")\n",
    "        conexao.close()"
   ]
  },
  {
   "cell_type": "code",
   "execution_count": null,
   "id": "848210db",
   "metadata": {},
   "outputs": [],
   "source": []
  }
 ],
 "metadata": {
  "kernelspec": {
   "display_name": "Python 3 (ipykernel)",
   "language": "python",
   "name": "python3"
  },
  "language_info": {
   "codemirror_mode": {
    "name": "ipython",
    "version": 3
   },
   "file_extension": ".py",
   "mimetype": "text/x-python",
   "name": "python",
   "nbconvert_exporter": "python",
   "pygments_lexer": "ipython3",
   "version": "3.9.12"
  }
 },
 "nbformat": 4,
 "nbformat_minor": 5
}

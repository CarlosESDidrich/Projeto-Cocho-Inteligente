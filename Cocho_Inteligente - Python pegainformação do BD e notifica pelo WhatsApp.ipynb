{
 "cells": [
  {
   "cell_type": "code",
   "execution_count": null,
   "id": "ce934b21",
   "metadata": {},
   "outputs": [],
   "source": [
    "#Enviando mensagem personalizada para cada usuário quando o cohco estiver vazio\n",
    "import pywhatkit\n",
    "import pymysql\n",
    "import time\n",
    "\n",
    "while True:\n",
    "        conexao = pymysql.connect(host=\"db4free.net\", #Conecta ao banco de dados\n",
    "                                  port=3306,\n",
    "                                  database=\"cochoint\",\n",
    "                                  user=\"cochoint\",\n",
    "                                  password=\"#cocho_inteligente\",\n",
    "                                  autocommit=True)\n",
    "        print(\"Conectado ao Banco\")\n",
    "        cursor = conexao.cursor()\n",
    "        cursor.execute(\"SELECT * FROM `cocho_inteligente`\" )#Seleciona a tabela cocho \n",
    "        \n",
    "        for linhaCocho in cursor.fetchall():\n",
    "            if linhaCocho[2] >= 0.05:# Altera valor da distancia no cocho\n",
    "                cursor.execute(f\"SELECT * FROM `cliente` WHERE id_cli = {linhaCocho[3]}\" )\n",
    "                for linhaUsuario in cursor.fetchall():#Laço para buscar informação do proprietario do cocho\n",
    "                    pywhatkit.sendwhatmsg_instantly(\"+5569\"+linhaUsuario[2] ,\"Sr(a) \" +linhaUsuario[1]+\" O cocho \"+linhaCocho[1]+\" precisa ser abastecido!\") #Envia mensagem personalizada\n",
    "                    time.sleep (12000)\n",
    "                    conexao.close()\n",
    "        \n",
    "        \n",
    "\n",
    "    \n",
    "    "
   ]
  }
 ],
 "metadata": {
  "kernelspec": {
   "display_name": "Python 3 (ipykernel)",
   "language": "python",
   "name": "python3"
  },
  "language_info": {
   "codemirror_mode": {
    "name": "ipython",
    "version": 3
   },
   "file_extension": ".py",
   "mimetype": "text/x-python",
   "name": "python",
   "nbconvert_exporter": "python",
   "pygments_lexer": "ipython3",
   "version": "3.9.12"
  }
 },
 "nbformat": 4,
 "nbformat_minor": 5
}
